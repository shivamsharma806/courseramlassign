{
    "cells": [
        {
            "cell_type": "markdown",
            "metadata": {},
            "source": "## Normalize the data"
        },
        {
            "cell_type": "code",
            "execution_count": 1,
            "metadata": {},
            "outputs": [],
            "source": "import pandas as pd\nimport numpy as np"
        },
        {
            "cell_type": "markdown",
            "metadata": {},
            "source": "To download and read dataset into dataframe"
        },
        {
            "cell_type": "code",
            "execution_count": 2,
            "metadata": {},
            "outputs": [
                {
                    "name": "stdout",
                    "output_type": "stream",
                    "text": "--2020-11-03 10:07:05--  https://cocl.us/concrete_data\nResolving cocl.us (cocl.us)... 169.63.96.194, 169.63.96.176\nConnecting to cocl.us (cocl.us)|169.63.96.194|:443... connected.\nHTTP request sent, awaiting response... 301 Moved Permanently\nLocation: https://s3-api.us-geo.objectstorage.softlayer.net/cf-courses-data/CognitiveClass/DL0101EN/labs/data/concrete_data.csv [following]\n--2020-11-03 10:07:06--  https://s3-api.us-geo.objectstorage.softlayer.net/cf-courses-data/CognitiveClass/DL0101EN/labs/data/concrete_data.csv\nResolving s3-api.us-geo.objectstorage.softlayer.net (s3-api.us-geo.objectstorage.softlayer.net)... 67.228.254.196\nConnecting to s3-api.us-geo.objectstorage.softlayer.net (s3-api.us-geo.objectstorage.softlayer.net)|67.228.254.196|:443... connected.\nHTTP request sent, awaiting response... 200 OK\nLength: 58988 (58K) [text/csv]\nSaving to: \u2018concrete_data\u2019\n\nconcrete_data       100%[===================>]  57.61K  --.-KB/s    in 0.1s    \n\n2020-11-03 10:07:07 (388 KB/s) - \u2018concrete_data\u2019 saved [58988/58988]\n\n"
                },
                {
                    "data": {
                        "text/html": "<div>\n<style scoped>\n    .dataframe tbody tr th:only-of-type {\n        vertical-align: middle;\n    }\n\n    .dataframe tbody tr th {\n        vertical-align: top;\n    }\n\n    .dataframe thead th {\n        text-align: right;\n    }\n</style>\n<table border=\"1\" class=\"dataframe\">\n  <thead>\n    <tr style=\"text-align: right;\">\n      <th></th>\n      <th>Cement</th>\n      <th>Blast Furnace Slag</th>\n      <th>Fly Ash</th>\n      <th>Water</th>\n      <th>Superplasticizer</th>\n      <th>Coarse Aggregate</th>\n      <th>Fine Aggregate</th>\n      <th>Age</th>\n      <th>Strength</th>\n    </tr>\n  </thead>\n  <tbody>\n    <tr>\n      <th>0</th>\n      <td>540.0</td>\n      <td>0.0</td>\n      <td>0.0</td>\n      <td>162.0</td>\n      <td>2.5</td>\n      <td>1040.0</td>\n      <td>676.0</td>\n      <td>28</td>\n      <td>79.99</td>\n    </tr>\n    <tr>\n      <th>1</th>\n      <td>540.0</td>\n      <td>0.0</td>\n      <td>0.0</td>\n      <td>162.0</td>\n      <td>2.5</td>\n      <td>1055.0</td>\n      <td>676.0</td>\n      <td>28</td>\n      <td>61.89</td>\n    </tr>\n    <tr>\n      <th>2</th>\n      <td>332.5</td>\n      <td>142.5</td>\n      <td>0.0</td>\n      <td>228.0</td>\n      <td>0.0</td>\n      <td>932.0</td>\n      <td>594.0</td>\n      <td>270</td>\n      <td>40.27</td>\n    </tr>\n    <tr>\n      <th>3</th>\n      <td>332.5</td>\n      <td>142.5</td>\n      <td>0.0</td>\n      <td>228.0</td>\n      <td>0.0</td>\n      <td>932.0</td>\n      <td>594.0</td>\n      <td>365</td>\n      <td>41.05</td>\n    </tr>\n    <tr>\n      <th>4</th>\n      <td>198.6</td>\n      <td>132.4</td>\n      <td>0.0</td>\n      <td>192.0</td>\n      <td>0.0</td>\n      <td>978.4</td>\n      <td>825.5</td>\n      <td>360</td>\n      <td>44.30</td>\n    </tr>\n  </tbody>\n</table>\n</div>",
                        "text/plain": "   Cement  Blast Furnace Slag  Fly Ash  Water  Superplasticizer  \\\n0   540.0                 0.0      0.0  162.0               2.5   \n1   540.0                 0.0      0.0  162.0               2.5   \n2   332.5               142.5      0.0  228.0               0.0   \n3   332.5               142.5      0.0  228.0               0.0   \n4   198.6               132.4      0.0  192.0               0.0   \n\n   Coarse Aggregate  Fine Aggregate  Age  Strength  \n0            1040.0           676.0   28     79.99  \n1            1055.0           676.0   28     61.89  \n2             932.0           594.0  270     40.27  \n3             932.0           594.0  365     41.05  \n4             978.4           825.5  360     44.30  "
                    },
                    "execution_count": 2,
                    "metadata": {},
                    "output_type": "execute_result"
                }
            ],
            "source": "!wget https://cocl.us/concrete_data\n!mv concrete_data concrete_data.csv\ndata=pd.read_csv('concrete_data.csv')\ndata.head()"
        },
        {
            "cell_type": "markdown",
            "metadata": {},
            "source": "#### Let's check how many data points we have."
        },
        {
            "cell_type": "code",
            "execution_count": 3,
            "metadata": {},
            "outputs": [
                {
                    "data": {
                        "text/plain": "(1030, 9)"
                    },
                    "execution_count": 3,
                    "metadata": {},
                    "output_type": "execute_result"
                }
            ],
            "source": "data.shape"
        },
        {
            "cell_type": "markdown",
            "metadata": {},
            "source": "So, there are approximately 1030 samples to train model on."
        },
        {
            "cell_type": "markdown",
            "metadata": {},
            "source": "To check dataset for missing values:"
        },
        {
            "cell_type": "code",
            "execution_count": 4,
            "metadata": {},
            "outputs": [
                {
                    "data": {
                        "text/html": "<div>\n<style scoped>\n    .dataframe tbody tr th:only-of-type {\n        vertical-align: middle;\n    }\n\n    .dataframe tbody tr th {\n        vertical-align: top;\n    }\n\n    .dataframe thead th {\n        text-align: right;\n    }\n</style>\n<table border=\"1\" class=\"dataframe\">\n  <thead>\n    <tr style=\"text-align: right;\">\n      <th></th>\n      <th>Cement</th>\n      <th>Blast Furnace Slag</th>\n      <th>Fly Ash</th>\n      <th>Water</th>\n      <th>Superplasticizer</th>\n      <th>Coarse Aggregate</th>\n      <th>Fine Aggregate</th>\n      <th>Age</th>\n      <th>Strength</th>\n    </tr>\n  </thead>\n  <tbody>\n    <tr>\n      <th>count</th>\n      <td>1030.000000</td>\n      <td>1030.000000</td>\n      <td>1030.000000</td>\n      <td>1030.000000</td>\n      <td>1030.000000</td>\n      <td>1030.000000</td>\n      <td>1030.000000</td>\n      <td>1030.000000</td>\n      <td>1030.000000</td>\n    </tr>\n    <tr>\n      <th>mean</th>\n      <td>281.167864</td>\n      <td>73.895825</td>\n      <td>54.188350</td>\n      <td>181.567282</td>\n      <td>6.204660</td>\n      <td>972.918932</td>\n      <td>773.580485</td>\n      <td>45.662136</td>\n      <td>35.817961</td>\n    </tr>\n    <tr>\n      <th>std</th>\n      <td>104.506364</td>\n      <td>86.279342</td>\n      <td>63.997004</td>\n      <td>21.354219</td>\n      <td>5.973841</td>\n      <td>77.753954</td>\n      <td>80.175980</td>\n      <td>63.169912</td>\n      <td>16.705742</td>\n    </tr>\n    <tr>\n      <th>min</th>\n      <td>102.000000</td>\n      <td>0.000000</td>\n      <td>0.000000</td>\n      <td>121.800000</td>\n      <td>0.000000</td>\n      <td>801.000000</td>\n      <td>594.000000</td>\n      <td>1.000000</td>\n      <td>2.330000</td>\n    </tr>\n    <tr>\n      <th>25%</th>\n      <td>192.375000</td>\n      <td>0.000000</td>\n      <td>0.000000</td>\n      <td>164.900000</td>\n      <td>0.000000</td>\n      <td>932.000000</td>\n      <td>730.950000</td>\n      <td>7.000000</td>\n      <td>23.710000</td>\n    </tr>\n    <tr>\n      <th>50%</th>\n      <td>272.900000</td>\n      <td>22.000000</td>\n      <td>0.000000</td>\n      <td>185.000000</td>\n      <td>6.400000</td>\n      <td>968.000000</td>\n      <td>779.500000</td>\n      <td>28.000000</td>\n      <td>34.445000</td>\n    </tr>\n    <tr>\n      <th>75%</th>\n      <td>350.000000</td>\n      <td>142.950000</td>\n      <td>118.300000</td>\n      <td>192.000000</td>\n      <td>10.200000</td>\n      <td>1029.400000</td>\n      <td>824.000000</td>\n      <td>56.000000</td>\n      <td>46.135000</td>\n    </tr>\n    <tr>\n      <th>max</th>\n      <td>540.000000</td>\n      <td>359.400000</td>\n      <td>200.100000</td>\n      <td>247.000000</td>\n      <td>32.200000</td>\n      <td>1145.000000</td>\n      <td>992.600000</td>\n      <td>365.000000</td>\n      <td>82.600000</td>\n    </tr>\n  </tbody>\n</table>\n</div>",
                        "text/plain": "            Cement  Blast Furnace Slag      Fly Ash        Water  \\\ncount  1030.000000         1030.000000  1030.000000  1030.000000   \nmean    281.167864           73.895825    54.188350   181.567282   \nstd     104.506364           86.279342    63.997004    21.354219   \nmin     102.000000            0.000000     0.000000   121.800000   \n25%     192.375000            0.000000     0.000000   164.900000   \n50%     272.900000           22.000000     0.000000   185.000000   \n75%     350.000000          142.950000   118.300000   192.000000   \nmax     540.000000          359.400000   200.100000   247.000000   \n\n       Superplasticizer  Coarse Aggregate  Fine Aggregate          Age  \\\ncount       1030.000000       1030.000000     1030.000000  1030.000000   \nmean           6.204660        972.918932      773.580485    45.662136   \nstd            5.973841         77.753954       80.175980    63.169912   \nmin            0.000000        801.000000      594.000000     1.000000   \n25%            0.000000        932.000000      730.950000     7.000000   \n50%            6.400000        968.000000      779.500000    28.000000   \n75%           10.200000       1029.400000      824.000000    56.000000   \nmax           32.200000       1145.000000      992.600000   365.000000   \n\n          Strength  \ncount  1030.000000  \nmean     35.817961  \nstd      16.705742  \nmin       2.330000  \n25%      23.710000  \n50%      34.445000  \n75%      46.135000  \nmax      82.600000  "
                    },
                    "execution_count": 4,
                    "metadata": {},
                    "output_type": "execute_result"
                }
            ],
            "source": "data.describe()"
        },
        {
            "cell_type": "code",
            "execution_count": 5,
            "metadata": {},
            "outputs": [
                {
                    "data": {
                        "text/plain": "Cement                0\nBlast Furnace Slag    0\nFly Ash               0\nWater                 0\nSuperplasticizer      0\nCoarse Aggregate      0\nFine Aggregate        0\nAge                   0\nStrength              0\ndtype: int64"
                    },
                    "execution_count": 5,
                    "metadata": {},
                    "output_type": "execute_result"
                }
            ],
            "source": "data.isnull().sum()"
        },
        {
            "cell_type": "markdown",
            "metadata": {},
            "source": "So data looks very clean and is ready to be used to build model."
        },
        {
            "cell_type": "markdown",
            "metadata": {},
            "source": "#### Split data into predictors and target"
        },
        {
            "cell_type": "markdown",
            "metadata": {},
            "source": "The target variable in this problem is the concrete sample strength. Therefore, our predictors will be all the other columns."
        },
        {
            "cell_type": "code",
            "execution_count": 6,
            "metadata": {},
            "outputs": [],
            "source": "concrete_data_columns=data.columns\npredictors=data[concrete_data_columns[concrete_data_columns != 'Strength']] # All columns except Strength\ntarget=data['Strength'] # Strength column"
        },
        {
            "cell_type": "markdown",
            "metadata": {},
            "source": "Let's do a quick sanity check of the predictors and the target dataframes."
        },
        {
            "cell_type": "code",
            "execution_count": 7,
            "metadata": {},
            "outputs": [
                {
                    "data": {
                        "text/html": "<div>\n<style scoped>\n    .dataframe tbody tr th:only-of-type {\n        vertical-align: middle;\n    }\n\n    .dataframe tbody tr th {\n        vertical-align: top;\n    }\n\n    .dataframe thead th {\n        text-align: right;\n    }\n</style>\n<table border=\"1\" class=\"dataframe\">\n  <thead>\n    <tr style=\"text-align: right;\">\n      <th></th>\n      <th>Cement</th>\n      <th>Blast Furnace Slag</th>\n      <th>Fly Ash</th>\n      <th>Water</th>\n      <th>Superplasticizer</th>\n      <th>Coarse Aggregate</th>\n      <th>Fine Aggregate</th>\n      <th>Age</th>\n    </tr>\n  </thead>\n  <tbody>\n    <tr>\n      <th>0</th>\n      <td>540.0</td>\n      <td>0.0</td>\n      <td>0.0</td>\n      <td>162.0</td>\n      <td>2.5</td>\n      <td>1040.0</td>\n      <td>676.0</td>\n      <td>28</td>\n    </tr>\n    <tr>\n      <th>1</th>\n      <td>540.0</td>\n      <td>0.0</td>\n      <td>0.0</td>\n      <td>162.0</td>\n      <td>2.5</td>\n      <td>1055.0</td>\n      <td>676.0</td>\n      <td>28</td>\n    </tr>\n    <tr>\n      <th>2</th>\n      <td>332.5</td>\n      <td>142.5</td>\n      <td>0.0</td>\n      <td>228.0</td>\n      <td>0.0</td>\n      <td>932.0</td>\n      <td>594.0</td>\n      <td>270</td>\n    </tr>\n    <tr>\n      <th>3</th>\n      <td>332.5</td>\n      <td>142.5</td>\n      <td>0.0</td>\n      <td>228.0</td>\n      <td>0.0</td>\n      <td>932.0</td>\n      <td>594.0</td>\n      <td>365</td>\n    </tr>\n    <tr>\n      <th>4</th>\n      <td>198.6</td>\n      <td>132.4</td>\n      <td>0.0</td>\n      <td>192.0</td>\n      <td>0.0</td>\n      <td>978.4</td>\n      <td>825.5</td>\n      <td>360</td>\n    </tr>\n  </tbody>\n</table>\n</div>",
                        "text/plain": "   Cement  Blast Furnace Slag  Fly Ash  Water  Superplasticizer  \\\n0   540.0                 0.0      0.0  162.0               2.5   \n1   540.0                 0.0      0.0  162.0               2.5   \n2   332.5               142.5      0.0  228.0               0.0   \n3   332.5               142.5      0.0  228.0               0.0   \n4   198.6               132.4      0.0  192.0               0.0   \n\n   Coarse Aggregate  Fine Aggregate  Age  \n0            1040.0           676.0   28  \n1            1055.0           676.0   28  \n2             932.0           594.0  270  \n3             932.0           594.0  365  \n4             978.4           825.5  360  "
                    },
                    "execution_count": 7,
                    "metadata": {},
                    "output_type": "execute_result"
                }
            ],
            "source": "predictors.head()"
        },
        {
            "cell_type": "code",
            "execution_count": 8,
            "metadata": {},
            "outputs": [
                {
                    "data": {
                        "text/plain": "0    79.99\n1    61.89\n2    40.27\n3    41.05\n4    44.30\nName: Strength, dtype: float64"
                    },
                    "execution_count": 8,
                    "metadata": {},
                    "output_type": "execute_result"
                }
            ],
            "source": "target.head()"
        },
        {
            "cell_type": "markdown",
            "metadata": {},
            "source": "### To normalize data by subtracting mean from individual predictors and dividing by standard deviation:"
        },
        {
            "cell_type": "code",
            "execution_count": 10,
            "metadata": {},
            "outputs": [
                {
                    "data": {
                        "text/html": "<div>\n<style scoped>\n    .dataframe tbody tr th:only-of-type {\n        vertical-align: middle;\n    }\n\n    .dataframe tbody tr th {\n        vertical-align: top;\n    }\n\n    .dataframe thead th {\n        text-align: right;\n    }\n</style>\n<table border=\"1\" class=\"dataframe\">\n  <thead>\n    <tr style=\"text-align: right;\">\n      <th></th>\n      <th>Cement</th>\n      <th>Blast Furnace Slag</th>\n      <th>Fly Ash</th>\n      <th>Water</th>\n      <th>Superplasticizer</th>\n      <th>Coarse Aggregate</th>\n      <th>Fine Aggregate</th>\n      <th>Age</th>\n    </tr>\n  </thead>\n  <tbody>\n    <tr>\n      <th>0</th>\n      <td>2.476712</td>\n      <td>-0.856472</td>\n      <td>-0.846733</td>\n      <td>-0.916319</td>\n      <td>-0.620147</td>\n      <td>0.862735</td>\n      <td>-1.217079</td>\n      <td>-0.279597</td>\n    </tr>\n    <tr>\n      <th>1</th>\n      <td>2.476712</td>\n      <td>-0.856472</td>\n      <td>-0.846733</td>\n      <td>-0.916319</td>\n      <td>-0.620147</td>\n      <td>1.055651</td>\n      <td>-1.217079</td>\n      <td>-0.279597</td>\n    </tr>\n    <tr>\n      <th>2</th>\n      <td>0.491187</td>\n      <td>0.795140</td>\n      <td>-0.846733</td>\n      <td>2.174405</td>\n      <td>-1.038638</td>\n      <td>-0.526262</td>\n      <td>-2.239829</td>\n      <td>3.551340</td>\n    </tr>\n    <tr>\n      <th>3</th>\n      <td>0.491187</td>\n      <td>0.795140</td>\n      <td>-0.846733</td>\n      <td>2.174405</td>\n      <td>-1.038638</td>\n      <td>-0.526262</td>\n      <td>-2.239829</td>\n      <td>5.055221</td>\n    </tr>\n    <tr>\n      <th>4</th>\n      <td>-0.790075</td>\n      <td>0.678079</td>\n      <td>-0.846733</td>\n      <td>0.488555</td>\n      <td>-1.038638</td>\n      <td>0.070492</td>\n      <td>0.647569</td>\n      <td>4.976069</td>\n    </tr>\n  </tbody>\n</table>\n</div>",
                        "text/plain": "     Cement  Blast Furnace Slag   Fly Ash     Water  Superplasticizer  \\\n0  2.476712           -0.856472 -0.846733 -0.916319         -0.620147   \n1  2.476712           -0.856472 -0.846733 -0.916319         -0.620147   \n2  0.491187            0.795140 -0.846733  2.174405         -1.038638   \n3  0.491187            0.795140 -0.846733  2.174405         -1.038638   \n4 -0.790075            0.678079 -0.846733  0.488555         -1.038638   \n\n   Coarse Aggregate  Fine Aggregate       Age  \n0          0.862735       -1.217079 -0.279597  \n1          1.055651       -1.217079 -0.279597  \n2         -0.526262       -2.239829  3.551340  \n3         -0.526262       -2.239829  5.055221  \n4          0.070492        0.647569  4.976069  "
                    },
                    "execution_count": 10,
                    "metadata": {},
                    "output_type": "execute_result"
                }
            ],
            "source": "pnorm=(predictors-predictors.mean())/predictors.std()\npnorm.head()"
        },
        {
            "cell_type": "code",
            "execution_count": 13,
            "metadata": {},
            "outputs": [
                {
                    "data": {
                        "text/plain": "8"
                    },
                    "execution_count": 13,
                    "metadata": {},
                    "output_type": "execute_result"
                }
            ],
            "source": "ncol=pnorm.shape[1] # Total predictors\nncol"
        },
        {
            "cell_type": "markdown",
            "metadata": {},
            "source": "## Import Keras"
        },
        {
            "cell_type": "code",
            "execution_count": 15,
            "metadata": {},
            "outputs": [],
            "source": "import keras"
        },
        {
            "cell_type": "code",
            "execution_count": 16,
            "metadata": {},
            "outputs": [],
            "source": "from keras.models import Sequential\nfrom keras.layers import Dense"
        },
        {
            "cell_type": "markdown",
            "metadata": {},
            "source": "To create model that has one hidden layer with 10 nodes and a ReLU activation function. It uses the adam optimizer and mean squared error as the loss function."
        },
        {
            "cell_type": "code",
            "execution_count": 18,
            "metadata": {},
            "outputs": [],
            "source": "# define regression model\ndef regression_model():\n    model = Sequential()\n    model.add(Dense(10,activation='relu',input_shape=(ncol,)))\n    model.add(Dense(1))\n    model.compile(optimizer='adam',loss='mean_squared_error')\n    return model"
        },
        {
            "cell_type": "code",
            "execution_count": 17,
            "metadata": {},
            "outputs": [],
            "source": "from sklearn.model_selection import train_test_split"
        },
        {
            "cell_type": "markdown",
            "metadata": {},
            "source": "Randomly split data into training and test sets by holding 30% of data for testing"
        },
        {
            "cell_type": "code",
            "execution_count": 19,
            "metadata": {},
            "outputs": [],
            "source": "X_train, X_test, y_train, y_test=train_test_split(pnorm, target, test_size=0.3, random_state=42)"
        },
        {
            "cell_type": "markdown",
            "metadata": {},
            "source": "## Train and Test the Network"
        },
        {
            "cell_type": "markdown",
            "metadata": {},
            "source": "Let's call the function now to create our model."
        },
        {
            "cell_type": "code",
            "execution_count": 20,
            "metadata": {},
            "outputs": [],
            "source": "model=regression_model()"
        },
        {
            "cell_type": "markdown",
            "metadata": {},
            "source": "To train model on training data using 50 epochs:"
        },
        {
            "cell_type": "code",
            "execution_count": 21,
            "metadata": {},
            "outputs": [
                {
                    "name": "stdout",
                    "output_type": "stream",
                    "text": "Epoch 1/50\n23/23 [==============================] - 0s 2ms/step - loss: 1587.1951\nEpoch 2/50\n23/23 [==============================] - 0s 3ms/step - loss: 1572.8613\nEpoch 3/50\n23/23 [==============================] - 0s 3ms/step - loss: 1558.4583\nEpoch 4/50\n23/23 [==============================] - 0s 2ms/step - loss: 1543.8689\nEpoch 5/50\n23/23 [==============================] - 0s 3ms/step - loss: 1528.7290\nEpoch 6/50\n23/23 [==============================] - 0s 2ms/step - loss: 1513.0184\nEpoch 7/50\n23/23 [==============================] - 0s 2ms/step - loss: 1496.5280\nEpoch 8/50\n23/23 [==============================] - 0s 2ms/step - loss: 1479.3794\nEpoch 9/50\n23/23 [==============================] - 0s 2ms/step - loss: 1461.2183\nEpoch 10/50\n23/23 [==============================] - 0s 2ms/step - loss: 1441.7942\nEpoch 11/50\n23/23 [==============================] - 0s 2ms/step - loss: 1421.3387\nEpoch 12/50\n23/23 [==============================] - 0s 2ms/step - loss: 1399.7053\nEpoch 13/50\n23/23 [==============================] - 0s 2ms/step - loss: 1376.6791\nEpoch 14/50\n23/23 [==============================] - 0s 2ms/step - loss: 1352.8810\nEpoch 15/50\n23/23 [==============================] - 0s 2ms/step - loss: 1327.6682\nEpoch 16/50\n23/23 [==============================] - 0s 2ms/step - loss: 1302.0781\nEpoch 17/50\n23/23 [==============================] - 0s 2ms/step - loss: 1275.0922\nEpoch 18/50\n23/23 [==============================] - 0s 2ms/step - loss: 1247.5276\nEpoch 19/50\n23/23 [==============================] - 0s 2ms/step - loss: 1219.5612\nEpoch 20/50\n23/23 [==============================] - 0s 2ms/step - loss: 1190.9185\nEpoch 21/50\n23/23 [==============================] - 0s 2ms/step - loss: 1162.0874\nEpoch 22/50\n23/23 [==============================] - 0s 2ms/step - loss: 1132.5599\nEpoch 23/50\n23/23 [==============================] - 0s 2ms/step - loss: 1103.0952\nEpoch 24/50\n23/23 [==============================] - 0s 2ms/step - loss: 1073.4935\nEpoch 25/50\n23/23 [==============================] - 0s 2ms/step - loss: 1043.5562\nEpoch 26/50\n23/23 [==============================] - 0s 2ms/step - loss: 1013.1470\nEpoch 27/50\n23/23 [==============================] - 0s 2ms/step - loss: 982.8615\nEpoch 28/50\n23/23 [==============================] - 0s 2ms/step - loss: 951.8832\nEpoch 29/50\n23/23 [==============================] - 0s 2ms/step - loss: 920.9553\nEpoch 30/50\n23/23 [==============================] - 0s 2ms/step - loss: 889.8879\nEpoch 31/50\n23/23 [==============================] - 0s 2ms/step - loss: 858.0142\nEpoch 32/50\n23/23 [==============================] - 0s 2ms/step - loss: 826.6211\nEpoch 33/50\n23/23 [==============================] - 0s 2ms/step - loss: 794.4761\nEpoch 34/50\n23/23 [==============================] - 0s 2ms/step - loss: 762.6575\nEpoch 35/50\n23/23 [==============================] - 0s 1ms/step - loss: 730.2286\nEpoch 36/50\n23/23 [==============================] - 0s 2ms/step - loss: 698.5100\nEpoch 37/50\n23/23 [==============================] - 0s 2ms/step - loss: 666.6401\nEpoch 38/50\n23/23 [==============================] - 0s 2ms/step - loss: 634.5306\nEpoch 39/50\n23/23 [==============================] - 0s 2ms/step - loss: 602.8540\nEpoch 40/50\n23/23 [==============================] - 0s 2ms/step - loss: 571.2750\nEpoch 41/50\n23/23 [==============================] - 0s 2ms/step - loss: 540.9664\nEpoch 42/50\n23/23 [==============================] - 0s 2ms/step - loss: 510.6172\nEpoch 43/50\n23/23 [==============================] - 0s 2ms/step - loss: 482.2140\nEpoch 44/50\n23/23 [==============================] - 0s 2ms/step - loss: 454.6756\nEpoch 45/50\n23/23 [==============================] - 0s 2ms/step - loss: 428.0139\nEpoch 46/50\n23/23 [==============================] - 0s 2ms/step - loss: 403.8686\nEpoch 47/50\n23/23 [==============================] - 0s 2ms/step - loss: 381.0598\nEpoch 48/50\n23/23 [==============================] - 0s 2ms/step - loss: 359.6105\nEpoch 49/50\n23/23 [==============================] - 0s 2ms/step - loss: 340.0252\nEpoch 50/50\n23/23 [==============================] - 0s 2ms/step - loss: 321.6962\n"
                },
                {
                    "data": {
                        "text/plain": "<tensorflow.python.keras.callbacks.History at 0x7f8fe414dd50>"
                    },
                    "execution_count": 21,
                    "metadata": {},
                    "output_type": "execute_result"
                }
            ],
            "source": "epochs=50\nmodel.fit(X_train,y_train,epochs=epochs,verbose=1)"
        },
        {
            "cell_type": "markdown",
            "metadata": {},
            "source": "Next we need to evaluate the model on the test data."
        },
        {
            "cell_type": "code",
            "execution_count": 22,
            "metadata": {},
            "outputs": [
                {
                    "name": "stdout",
                    "output_type": "stream",
                    "text": "10/10 [==============================] - 0s 2ms/step - loss: 315.8492\n"
                },
                {
                    "data": {
                        "text/plain": "315.8492126464844"
                    },
                    "execution_count": 22,
                    "metadata": {},
                    "output_type": "execute_result"
                }
            ],
            "source": "loss_val=model.evaluate(X_test,y_test)\nypred=model.predict(X_test)\nloss_val"
        },
        {
            "cell_type": "markdown",
            "metadata": {},
            "source": "Now we need to compute the mean squared error between the predicted concrete strength and the actual concrete strength."
        },
        {
            "cell_type": "code",
            "execution_count": 23,
            "metadata": {},
            "outputs": [],
            "source": "from sklearn.metrics import mean_squared_error"
        },
        {
            "cell_type": "code",
            "execution_count": 25,
            "metadata": {},
            "outputs": [
                {
                    "name": "stdout",
                    "output_type": "stream",
                    "text": "315.8491913624639 0.0\n"
                }
            ],
            "source": "mse=mean_squared_error(y_test, ypred)\nmean = np.mean(mse)\nsd=np.std(mse)\nprint(mean,sd)"
        },
        {
            "cell_type": "markdown",
            "metadata": {},
            "source": "Create a list of 50 mean squared errors and report mean and the standard deviation of the mean squared errors."
        },
        {
            "cell_type": "code",
            "execution_count": 27,
            "metadata": {},
            "outputs": [
                {
                    "name": "stdout",
                    "output_type": "stream",
                    "text": "MSE 1: 36.57171630859375\nMSE 2: 41.61995315551758\nMSE 3: 33.24441146850586\nMSE 4: 38.24230194091797\nMSE 5: 38.982765197753906\nMSE 6: 39.35704040527344\nMSE 7: 44.460723876953125\nMSE 8: 35.951820373535156\nMSE 9: 36.528438568115234\nMSE 10: 35.67123031616211\nMSE 11: 36.04814910888672\nMSE 12: 35.044925689697266\nMSE 13: 40.8748893737793\nMSE 14: 42.203983306884766\nMSE 15: 34.857662200927734\nMSE 16: 33.507484436035156\nMSE 17: 36.962894439697266\nMSE 18: 37.11610794067383\nMSE 19: 37.06245040893555\nMSE 20: 36.802284240722656\nMSE 21: 35.0628776550293\nMSE 22: 36.29821014404297\nMSE 23: 32.54432678222656\nMSE 24: 37.856788635253906\nMSE 25: 36.73625946044922\nMSE 26: 38.84296798706055\nMSE 27: 33.64200210571289\nMSE 28: 31.595661163330078\nMSE 29: 38.68289566040039\nMSE 30: 37.13102722167969\nMSE 31: 35.12486267089844\nMSE 32: 32.94158172607422\nMSE 33: 34.44196701049805\nMSE 34: 36.251548767089844\nMSE 35: 36.86576843261719\nMSE 36: 41.214263916015625\nMSE 37: 36.52311325073242\nMSE 38: 39.73874282836914\nMSE 39: 38.01164627075195\nMSE 40: 31.324392318725586\nMSE 41: 38.87005615234375\nMSE 42: 31.974912643432617\nMSE 43: 34.3812370300293\nMSE 44: 41.466861724853516\nMSE 45: 43.42964172363281\nMSE 46: 38.978363037109375\nMSE 47: 35.803123474121094\nMSE 48: 37.52215576171875\nMSE 49: 40.181427001953125\nMSE 50: 37.64540481567383\n\nMean and standard deviation of 50 mean squared errors using normalized data:\n\nMean: 37.043906385902204\nStandard Deviation: 2.9648086102030895\n"
                }
            ],
            "source": "totalmse=50\nepochs=50\nmean_squared_errors=[]\nfor i in range(0, totalmse):\n    X_train, X_test, y_train, y_test=train_test_split(pnorm,target,test_size=0.3,random_state=i)\n    model.fit(X_train, y_train,epochs=epochs,verbose=0)\n    MSE = model.evaluate(X_test,y_test,verbose=0)\n    print(\"MSE \"+str(i+1)+\": \"+str(MSE))\n    y_pred = model.predict(X_test)\n    mse = mean_squared_error(y_test, y_pred)\n    mean_squared_errors.append(mse)\nmean_squared_errors=np.array(mean_squared_errors)\nmean=np.mean(mean_squared_errors)\nsd=np.std(mean_squared_errors)\nprint(\"\\nMean and standard deviation of \" +str(totalmse) + \" mean squared errors using normalized data:\\n\")\nprint(\"Mean: \"+str(mean))\nprint(\"Standard Deviation: \"+str(sd))"
        }
    ],
    "metadata": {
        "kernelspec": {
            "display_name": "Python 3.7",
            "language": "python",
            "name": "python3"
        },
        "language_info": {
            "codemirror_mode": {
                "name": "ipython",
                "version": 3
            },
            "file_extension": ".py",
            "mimetype": "text/x-python",
            "name": "python",
            "nbconvert_exporter": "python",
            "pygments_lexer": "ipython3",
            "version": "3.7.9"
        }
    },
    "nbformat": 4,
    "nbformat_minor": 2
}