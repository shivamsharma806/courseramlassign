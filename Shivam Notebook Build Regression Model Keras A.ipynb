{
    "cells": [
        {
            "cell_type": "markdown",
            "metadata": {},
            "source": "## Build a baseline model"
        },
        {
            "cell_type": "code",
            "execution_count": 1,
            "metadata": {},
            "outputs": [],
            "source": "import pandas as pd\nimport numpy as np"
        },
        {
            "cell_type": "markdown",
            "metadata": {},
            "source": "To download and read dataset into dataframe"
        },
        {
            "cell_type": "code",
            "execution_count": 4,
            "metadata": {},
            "outputs": [
                {
                    "name": "stdout",
                    "output_type": "stream",
                    "text": "--2020-11-03 08:13:49--  https://cocl.us/concrete_data\nResolving cocl.us (cocl.us)... 169.63.96.194, 169.63.96.176\nConnecting to cocl.us (cocl.us)|169.63.96.194|:443... connected.\nHTTP request sent, awaiting response... 301 Moved Permanently\nLocation: https://s3-api.us-geo.objectstorage.softlayer.net/cf-courses-data/CognitiveClass/DL0101EN/labs/data/concrete_data.csv [following]\n--2020-11-03 08:13:50--  https://s3-api.us-geo.objectstorage.softlayer.net/cf-courses-data/CognitiveClass/DL0101EN/labs/data/concrete_data.csv\nResolving s3-api.us-geo.objectstorage.softlayer.net (s3-api.us-geo.objectstorage.softlayer.net)... 67.228.254.196\nConnecting to s3-api.us-geo.objectstorage.softlayer.net (s3-api.us-geo.objectstorage.softlayer.net)|67.228.254.196|:443... connected.\nHTTP request sent, awaiting response... 200 OK\nLength: 58988 (58K) [text/csv]\nSaving to: \u2018concrete_data\u2019\n\nconcrete_data       100%[===================>]  57.61K  --.-KB/s    in 0.1s    \n\n2020-11-03 08:13:51 (389 KB/s) - \u2018concrete_data\u2019 saved [58988/58988]\n\n"
                },
                {
                    "data": {
                        "text/html": "<div>\n<style scoped>\n    .dataframe tbody tr th:only-of-type {\n        vertical-align: middle;\n    }\n\n    .dataframe tbody tr th {\n        vertical-align: top;\n    }\n\n    .dataframe thead th {\n        text-align: right;\n    }\n</style>\n<table border=\"1\" class=\"dataframe\">\n  <thead>\n    <tr style=\"text-align: right;\">\n      <th></th>\n      <th>Cement</th>\n      <th>Blast Furnace Slag</th>\n      <th>Fly Ash</th>\n      <th>Water</th>\n      <th>Superplasticizer</th>\n      <th>Coarse Aggregate</th>\n      <th>Fine Aggregate</th>\n      <th>Age</th>\n      <th>Strength</th>\n    </tr>\n  </thead>\n  <tbody>\n    <tr>\n      <th>0</th>\n      <td>540.0</td>\n      <td>0.0</td>\n      <td>0.0</td>\n      <td>162.0</td>\n      <td>2.5</td>\n      <td>1040.0</td>\n      <td>676.0</td>\n      <td>28</td>\n      <td>79.99</td>\n    </tr>\n    <tr>\n      <th>1</th>\n      <td>540.0</td>\n      <td>0.0</td>\n      <td>0.0</td>\n      <td>162.0</td>\n      <td>2.5</td>\n      <td>1055.0</td>\n      <td>676.0</td>\n      <td>28</td>\n      <td>61.89</td>\n    </tr>\n    <tr>\n      <th>2</th>\n      <td>332.5</td>\n      <td>142.5</td>\n      <td>0.0</td>\n      <td>228.0</td>\n      <td>0.0</td>\n      <td>932.0</td>\n      <td>594.0</td>\n      <td>270</td>\n      <td>40.27</td>\n    </tr>\n    <tr>\n      <th>3</th>\n      <td>332.5</td>\n      <td>142.5</td>\n      <td>0.0</td>\n      <td>228.0</td>\n      <td>0.0</td>\n      <td>932.0</td>\n      <td>594.0</td>\n      <td>365</td>\n      <td>41.05</td>\n    </tr>\n    <tr>\n      <th>4</th>\n      <td>198.6</td>\n      <td>132.4</td>\n      <td>0.0</td>\n      <td>192.0</td>\n      <td>0.0</td>\n      <td>978.4</td>\n      <td>825.5</td>\n      <td>360</td>\n      <td>44.30</td>\n    </tr>\n  </tbody>\n</table>\n</div>",
                        "text/plain": "   Cement  Blast Furnace Slag  Fly Ash  Water  Superplasticizer  \\\n0   540.0                 0.0      0.0  162.0               2.5   \n1   540.0                 0.0      0.0  162.0               2.5   \n2   332.5               142.5      0.0  228.0               0.0   \n3   332.5               142.5      0.0  228.0               0.0   \n4   198.6               132.4      0.0  192.0               0.0   \n\n   Coarse Aggregate  Fine Aggregate  Age  Strength  \n0            1040.0           676.0   28     79.99  \n1            1055.0           676.0   28     61.89  \n2             932.0           594.0  270     40.27  \n3             932.0           594.0  365     41.05  \n4             978.4           825.5  360     44.30  "
                    },
                    "execution_count": 4,
                    "metadata": {},
                    "output_type": "execute_result"
                }
            ],
            "source": "!wget https://cocl.us/concrete_data\n!mv concrete_data concrete_data.csv\ndata=pd.read_csv('concrete_data.csv')\ndata.head()"
        },
        {
            "cell_type": "markdown",
            "metadata": {},
            "source": "#### Let's check how many data points we have."
        },
        {
            "cell_type": "code",
            "execution_count": 5,
            "metadata": {},
            "outputs": [
                {
                    "data": {
                        "text/plain": "(1030, 9)"
                    },
                    "execution_count": 5,
                    "metadata": {},
                    "output_type": "execute_result"
                }
            ],
            "source": "data.shape"
        },
        {
            "cell_type": "markdown",
            "metadata": {},
            "source": "So, there are approximately 1030 samples to train model on."
        },
        {
            "cell_type": "markdown",
            "metadata": {},
            "source": "To check dataset for missing values:"
        },
        {
            "cell_type": "code",
            "execution_count": 6,
            "metadata": {},
            "outputs": [
                {
                    "data": {
                        "text/html": "<div>\n<style scoped>\n    .dataframe tbody tr th:only-of-type {\n        vertical-align: middle;\n    }\n\n    .dataframe tbody tr th {\n        vertical-align: top;\n    }\n\n    .dataframe thead th {\n        text-align: right;\n    }\n</style>\n<table border=\"1\" class=\"dataframe\">\n  <thead>\n    <tr style=\"text-align: right;\">\n      <th></th>\n      <th>Cement</th>\n      <th>Blast Furnace Slag</th>\n      <th>Fly Ash</th>\n      <th>Water</th>\n      <th>Superplasticizer</th>\n      <th>Coarse Aggregate</th>\n      <th>Fine Aggregate</th>\n      <th>Age</th>\n      <th>Strength</th>\n    </tr>\n  </thead>\n  <tbody>\n    <tr>\n      <th>count</th>\n      <td>1030.000000</td>\n      <td>1030.000000</td>\n      <td>1030.000000</td>\n      <td>1030.000000</td>\n      <td>1030.000000</td>\n      <td>1030.000000</td>\n      <td>1030.000000</td>\n      <td>1030.000000</td>\n      <td>1030.000000</td>\n    </tr>\n    <tr>\n      <th>mean</th>\n      <td>281.167864</td>\n      <td>73.895825</td>\n      <td>54.188350</td>\n      <td>181.567282</td>\n      <td>6.204660</td>\n      <td>972.918932</td>\n      <td>773.580485</td>\n      <td>45.662136</td>\n      <td>35.817961</td>\n    </tr>\n    <tr>\n      <th>std</th>\n      <td>104.506364</td>\n      <td>86.279342</td>\n      <td>63.997004</td>\n      <td>21.354219</td>\n      <td>5.973841</td>\n      <td>77.753954</td>\n      <td>80.175980</td>\n      <td>63.169912</td>\n      <td>16.705742</td>\n    </tr>\n    <tr>\n      <th>min</th>\n      <td>102.000000</td>\n      <td>0.000000</td>\n      <td>0.000000</td>\n      <td>121.800000</td>\n      <td>0.000000</td>\n      <td>801.000000</td>\n      <td>594.000000</td>\n      <td>1.000000</td>\n      <td>2.330000</td>\n    </tr>\n    <tr>\n      <th>25%</th>\n      <td>192.375000</td>\n      <td>0.000000</td>\n      <td>0.000000</td>\n      <td>164.900000</td>\n      <td>0.000000</td>\n      <td>932.000000</td>\n      <td>730.950000</td>\n      <td>7.000000</td>\n      <td>23.710000</td>\n    </tr>\n    <tr>\n      <th>50%</th>\n      <td>272.900000</td>\n      <td>22.000000</td>\n      <td>0.000000</td>\n      <td>185.000000</td>\n      <td>6.400000</td>\n      <td>968.000000</td>\n      <td>779.500000</td>\n      <td>28.000000</td>\n      <td>34.445000</td>\n    </tr>\n    <tr>\n      <th>75%</th>\n      <td>350.000000</td>\n      <td>142.950000</td>\n      <td>118.300000</td>\n      <td>192.000000</td>\n      <td>10.200000</td>\n      <td>1029.400000</td>\n      <td>824.000000</td>\n      <td>56.000000</td>\n      <td>46.135000</td>\n    </tr>\n    <tr>\n      <th>max</th>\n      <td>540.000000</td>\n      <td>359.400000</td>\n      <td>200.100000</td>\n      <td>247.000000</td>\n      <td>32.200000</td>\n      <td>1145.000000</td>\n      <td>992.600000</td>\n      <td>365.000000</td>\n      <td>82.600000</td>\n    </tr>\n  </tbody>\n</table>\n</div>",
                        "text/plain": "            Cement  Blast Furnace Slag      Fly Ash        Water  \\\ncount  1030.000000         1030.000000  1030.000000  1030.000000   \nmean    281.167864           73.895825    54.188350   181.567282   \nstd     104.506364           86.279342    63.997004    21.354219   \nmin     102.000000            0.000000     0.000000   121.800000   \n25%     192.375000            0.000000     0.000000   164.900000   \n50%     272.900000           22.000000     0.000000   185.000000   \n75%     350.000000          142.950000   118.300000   192.000000   \nmax     540.000000          359.400000   200.100000   247.000000   \n\n       Superplasticizer  Coarse Aggregate  Fine Aggregate          Age  \\\ncount       1030.000000       1030.000000     1030.000000  1030.000000   \nmean           6.204660        972.918932      773.580485    45.662136   \nstd            5.973841         77.753954       80.175980    63.169912   \nmin            0.000000        801.000000      594.000000     1.000000   \n25%            0.000000        932.000000      730.950000     7.000000   \n50%            6.400000        968.000000      779.500000    28.000000   \n75%           10.200000       1029.400000      824.000000    56.000000   \nmax           32.200000       1145.000000      992.600000   365.000000   \n\n          Strength  \ncount  1030.000000  \nmean     35.817961  \nstd      16.705742  \nmin       2.330000  \n25%      23.710000  \n50%      34.445000  \n75%      46.135000  \nmax      82.600000  "
                    },
                    "execution_count": 6,
                    "metadata": {},
                    "output_type": "execute_result"
                }
            ],
            "source": "data.describe()"
        },
        {
            "cell_type": "code",
            "execution_count": 7,
            "metadata": {},
            "outputs": [
                {
                    "data": {
                        "text/plain": "Cement                0\nBlast Furnace Slag    0\nFly Ash               0\nWater                 0\nSuperplasticizer      0\nCoarse Aggregate      0\nFine Aggregate        0\nAge                   0\nStrength              0\ndtype: int64"
                    },
                    "execution_count": 7,
                    "metadata": {},
                    "output_type": "execute_result"
                }
            ],
            "source": "data.isnull().sum()"
        },
        {
            "cell_type": "markdown",
            "metadata": {},
            "source": "The data looks very clean and is ready to be used to build our model."
        },
        {
            "cell_type": "markdown",
            "metadata": {},
            "source": "#### Split data into predictors and target"
        },
        {
            "cell_type": "markdown",
            "metadata": {},
            "source": "The target variable in this problem is the concrete sample strength. Therefore, our predictors will be all the other columns."
        },
        {
            "cell_type": "code",
            "execution_count": 8,
            "metadata": {},
            "outputs": [],
            "source": "concrete_data_columns=data.columns\npredictors=data[concrete_data_columns[concrete_data_columns != 'Strength']] # All columns except Strength\ntarget=data['Strength'] # Strength column"
        },
        {
            "cell_type": "markdown",
            "metadata": {},
            "source": "Let's do a quick sanity check of the predictors and the target dataframes."
        },
        {
            "cell_type": "code",
            "execution_count": 9,
            "metadata": {},
            "outputs": [
                {
                    "data": {
                        "text/html": "<div>\n<style scoped>\n    .dataframe tbody tr th:only-of-type {\n        vertical-align: middle;\n    }\n\n    .dataframe tbody tr th {\n        vertical-align: top;\n    }\n\n    .dataframe thead th {\n        text-align: right;\n    }\n</style>\n<table border=\"1\" class=\"dataframe\">\n  <thead>\n    <tr style=\"text-align: right;\">\n      <th></th>\n      <th>Cement</th>\n      <th>Blast Furnace Slag</th>\n      <th>Fly Ash</th>\n      <th>Water</th>\n      <th>Superplasticizer</th>\n      <th>Coarse Aggregate</th>\n      <th>Fine Aggregate</th>\n      <th>Age</th>\n    </tr>\n  </thead>\n  <tbody>\n    <tr>\n      <th>0</th>\n      <td>540.0</td>\n      <td>0.0</td>\n      <td>0.0</td>\n      <td>162.0</td>\n      <td>2.5</td>\n      <td>1040.0</td>\n      <td>676.0</td>\n      <td>28</td>\n    </tr>\n    <tr>\n      <th>1</th>\n      <td>540.0</td>\n      <td>0.0</td>\n      <td>0.0</td>\n      <td>162.0</td>\n      <td>2.5</td>\n      <td>1055.0</td>\n      <td>676.0</td>\n      <td>28</td>\n    </tr>\n    <tr>\n      <th>2</th>\n      <td>332.5</td>\n      <td>142.5</td>\n      <td>0.0</td>\n      <td>228.0</td>\n      <td>0.0</td>\n      <td>932.0</td>\n      <td>594.0</td>\n      <td>270</td>\n    </tr>\n    <tr>\n      <th>3</th>\n      <td>332.5</td>\n      <td>142.5</td>\n      <td>0.0</td>\n      <td>228.0</td>\n      <td>0.0</td>\n      <td>932.0</td>\n      <td>594.0</td>\n      <td>365</td>\n    </tr>\n    <tr>\n      <th>4</th>\n      <td>198.6</td>\n      <td>132.4</td>\n      <td>0.0</td>\n      <td>192.0</td>\n      <td>0.0</td>\n      <td>978.4</td>\n      <td>825.5</td>\n      <td>360</td>\n    </tr>\n  </tbody>\n</table>\n</div>",
                        "text/plain": "   Cement  Blast Furnace Slag  Fly Ash  Water  Superplasticizer  \\\n0   540.0                 0.0      0.0  162.0               2.5   \n1   540.0                 0.0      0.0  162.0               2.5   \n2   332.5               142.5      0.0  228.0               0.0   \n3   332.5               142.5      0.0  228.0               0.0   \n4   198.6               132.4      0.0  192.0               0.0   \n\n   Coarse Aggregate  Fine Aggregate  Age  \n0            1040.0           676.0   28  \n1            1055.0           676.0   28  \n2             932.0           594.0  270  \n3             932.0           594.0  365  \n4             978.4           825.5  360  "
                    },
                    "execution_count": 9,
                    "metadata": {},
                    "output_type": "execute_result"
                }
            ],
            "source": "predictors.head()"
        },
        {
            "cell_type": "code",
            "execution_count": 10,
            "metadata": {},
            "outputs": [
                {
                    "data": {
                        "text/plain": "0    79.99\n1    61.89\n2    40.27\n3    41.05\n4    44.30\nName: Strength, dtype: float64"
                    },
                    "execution_count": 10,
                    "metadata": {},
                    "output_type": "execute_result"
                }
            ],
            "source": "target.head()"
        },
        {
            "cell_type": "code",
            "execution_count": 11,
            "metadata": {},
            "outputs": [
                {
                    "data": {
                        "text/plain": "8"
                    },
                    "execution_count": 11,
                    "metadata": {},
                    "output_type": "execute_result"
                }
            ],
            "source": "ncol=predictors.shape[1] # Total predictors\nncol"
        },
        {
            "cell_type": "markdown",
            "metadata": {},
            "source": "<a id=\"item1\"></a>"
        },
        {
            "cell_type": "markdown",
            "metadata": {},
            "source": "<a id=\"item1\"></a>"
        },
        {
            "cell_type": "markdown",
            "metadata": {},
            "source": "## Import Keras"
        },
        {
            "cell_type": "code",
            "execution_count": 2,
            "metadata": {},
            "outputs": [],
            "source": "import keras"
        },
        {
            "cell_type": "code",
            "execution_count": 3,
            "metadata": {},
            "outputs": [],
            "source": "from keras.models import Sequential\nfrom keras.layers import Dense"
        },
        {
            "cell_type": "markdown",
            "metadata": {},
            "source": "To create model that has one hidden layer with 10 nodes and a ReLU activation function. It uses the adam optimizer and mean squared error as the loss function."
        },
        {
            "cell_type": "code",
            "execution_count": 17,
            "metadata": {},
            "outputs": [],
            "source": "# define regression model\ndef regression_model():\n    model = Sequential()\n    model.add(Dense(10,activation='relu',input_shape=(ncol,)))\n    model.add(Dense(1))\n    model.compile(optimizer='adam',loss='mean_squared_error')\n    return model"
        },
        {
            "cell_type": "code",
            "execution_count": 21,
            "metadata": {},
            "outputs": [],
            "source": "from sklearn.model_selection import train_test_split"
        },
        {
            "cell_type": "markdown",
            "metadata": {},
            "source": "Randomly split data into training and test sets by holding 30% of data for testing"
        },
        {
            "cell_type": "code",
            "execution_count": 22,
            "metadata": {},
            "outputs": [],
            "source": "X_train, X_test, y_train, y_test = train_test_split(predictors, target, test_size=0.3, random_state=42)"
        },
        {
            "cell_type": "markdown",
            "metadata": {},
            "source": "## Train and Test the Network"
        },
        {
            "cell_type": "markdown",
            "metadata": {},
            "source": "Let's call the function now to create our model."
        },
        {
            "cell_type": "code",
            "execution_count": 29,
            "metadata": {},
            "outputs": [],
            "source": "model=regression_model()"
        },
        {
            "cell_type": "markdown",
            "metadata": {},
            "source": "To train model on training data using 50 epochs:"
        },
        {
            "cell_type": "code",
            "execution_count": 30,
            "metadata": {},
            "outputs": [
                {
                    "name": "stdout",
                    "output_type": "stream",
                    "text": "Epoch 1/50\n23/23 [==============================] - 0s 4ms/step - loss: 3439.3083\nEpoch 2/50\n23/23 [==============================] - 0s 2ms/step - loss: 2438.0864\nEpoch 3/50\n23/23 [==============================] - 0s 3ms/step - loss: 1855.9879\nEpoch 4/50\n23/23 [==============================] - 0s 3ms/step - loss: 1419.9175\nEpoch 5/50\n23/23 [==============================] - 0s 3ms/step - loss: 1061.1891\nEpoch 6/50\n23/23 [==============================] - 0s 2ms/step - loss: 820.5703\nEpoch 7/50\n23/23 [==============================] - 0s 2ms/step - loss: 669.7319\nEpoch 8/50\n23/23 [==============================] - 0s 2ms/step - loss: 575.3070\nEpoch 9/50\n23/23 [==============================] - 0s 2ms/step - loss: 496.9851\nEpoch 10/50\n23/23 [==============================] - 0s 2ms/step - loss: 431.5261\nEpoch 11/50\n23/23 [==============================] - 0s 2ms/step - loss: 386.1855\nEpoch 12/50\n23/23 [==============================] - 0s 2ms/step - loss: 350.4974\nEpoch 13/50\n23/23 [==============================] - 0s 2ms/step - loss: 322.9804\nEpoch 14/50\n23/23 [==============================] - 0s 2ms/step - loss: 301.8738\nEpoch 15/50\n23/23 [==============================] - 0s 2ms/step - loss: 284.1471\nEpoch 16/50\n23/23 [==============================] - 0s 2ms/step - loss: 269.4829\nEpoch 17/50\n23/23 [==============================] - 0s 2ms/step - loss: 260.5812\nEpoch 18/50\n23/23 [==============================] - 0s 2ms/step - loss: 247.4850\nEpoch 19/50\n23/23 [==============================] - 0s 2ms/step - loss: 245.6919\nEpoch 20/50\n23/23 [==============================] - 0s 2ms/step - loss: 232.1207\nEpoch 21/50\n23/23 [==============================] - 0s 2ms/step - loss: 221.6588\nEpoch 22/50\n23/23 [==============================] - 0s 2ms/step - loss: 213.3570\nEpoch 23/50\n23/23 [==============================] - 0s 2ms/step - loss: 207.5623\nEpoch 24/50\n23/23 [==============================] - 0s 2ms/step - loss: 202.0082\nEpoch 25/50\n23/23 [==============================] - 0s 2ms/step - loss: 196.0796\nEpoch 26/50\n23/23 [==============================] - 0s 2ms/step - loss: 190.5601\nEpoch 27/50\n23/23 [==============================] - 0s 2ms/step - loss: 185.8435\nEpoch 28/50\n23/23 [==============================] - 0s 2ms/step - loss: 178.2127\nEpoch 29/50\n23/23 [==============================] - 0s 2ms/step - loss: 173.7977\nEpoch 30/50\n23/23 [==============================] - 0s 2ms/step - loss: 166.8404\nEpoch 31/50\n23/23 [==============================] - 0s 2ms/step - loss: 162.1827\nEpoch 32/50\n23/23 [==============================] - 0s 2ms/step - loss: 157.2800\nEpoch 33/50\n23/23 [==============================] - 0s 2ms/step - loss: 151.3385\nEpoch 34/50\n23/23 [==============================] - 0s 2ms/step - loss: 146.6963\nEpoch 35/50\n23/23 [==============================] - 0s 2ms/step - loss: 142.5569\nEpoch 36/50\n23/23 [==============================] - 0s 2ms/step - loss: 139.8627\nEpoch 37/50\n23/23 [==============================] - 0s 2ms/step - loss: 132.9529\nEpoch 38/50\n23/23 [==============================] - 0s 2ms/step - loss: 133.3319\nEpoch 39/50\n23/23 [==============================] - 0s 2ms/step - loss: 126.4000\nEpoch 40/50\n23/23 [==============================] - 0s 2ms/step - loss: 121.6257\nEpoch 41/50\n23/23 [==============================] - 0s 2ms/step - loss: 119.5616\nEpoch 42/50\n23/23 [==============================] - 0s 2ms/step - loss: 118.6180\nEpoch 43/50\n23/23 [==============================] - 0s 2ms/step - loss: 116.1120\nEpoch 44/50\n23/23 [==============================] - 0s 2ms/step - loss: 115.3484\nEpoch 45/50\n23/23 [==============================] - 0s 2ms/step - loss: 115.4683\nEpoch 46/50\n23/23 [==============================] - 0s 2ms/step - loss: 116.8919\nEpoch 47/50\n23/23 [==============================] - 0s 2ms/step - loss: 118.2606\nEpoch 48/50\n23/23 [==============================] - 0s 2ms/step - loss: 113.0437\nEpoch 49/50\n23/23 [==============================] - 0s 2ms/step - loss: 113.2425\nEpoch 50/50\n23/23 [==============================] - 0s 1ms/step - loss: 111.5966\n"
                },
                {
                    "data": {
                        "text/plain": "<tensorflow.python.keras.callbacks.History at 0x7f44afa3ea10>"
                    },
                    "execution_count": 30,
                    "metadata": {},
                    "output_type": "execute_result"
                }
            ],
            "source": "epochs=50\nmodel.fit(X_train,y_train,epochs=epochs,verbose=1)"
        },
        {
            "cell_type": "markdown",
            "metadata": {},
            "source": "Next we need to evaluate the model on the test data."
        },
        {
            "cell_type": "code",
            "execution_count": 33,
            "metadata": {},
            "outputs": [
                {
                    "name": "stdout",
                    "output_type": "stream",
                    "text": "10/10 [==============================] - 0s 2ms/step - loss: 116.8374\n"
                },
                {
                    "data": {
                        "text/plain": "116.83744049072266"
                    },
                    "execution_count": 33,
                    "metadata": {},
                    "output_type": "execute_result"
                }
            ],
            "source": "loss_val=model.evaluate(X_test,y_test)\nypred=model.predict(X_test)\nloss_val"
        },
        {
            "cell_type": "markdown",
            "metadata": {},
            "source": "Now we need to compute the mean squared error between the predicted concrete strength and the actual concrete strength."
        },
        {
            "cell_type": "code",
            "execution_count": 34,
            "metadata": {},
            "outputs": [],
            "source": "from sklearn.metrics import mean_squared_error"
        },
        {
            "cell_type": "code",
            "execution_count": 38,
            "metadata": {},
            "outputs": [
                {
                    "name": "stdout",
                    "output_type": "stream",
                    "text": "53.75094830108126 0.0\n"
                }
            ],
            "source": "mse=mean_squared_error(y_test, ypred)\nmean = np.mean(mse)\nsd=np.std(mse)\nprint(mean,sd)"
        },
        {
            "cell_type": "markdown",
            "metadata": {},
            "source": "Create a list of 50 mean squared errors and report mean and the standard deviation of the mean squared errors."
        },
        {
            "cell_type": "code",
            "execution_count": 42,
            "metadata": {},
            "outputs": [
                {
                    "name": "stdout",
                    "output_type": "stream",
                    "text": "MSE 1: 44.58778762817383\nMSE 2: 45.33092498779297\nMSE 3: 39.72268295288086\nMSE 4: 42.366050720214844\nMSE 5: 42.221343994140625\nMSE 6: 45.200138092041016\nMSE 7: 51.78047561645508\nMSE 8: 38.537689208984375\nMSE 9: 47.95219421386719\nMSE 10: 43.836341857910156\nMSE 11: 41.739933013916016\nMSE 12: 40.59569549560547\nMSE 13: 49.225589752197266\nMSE 14: 49.78409957885742\nMSE 15: 42.92987060546875\nMSE 16: 35.45029067993164\nMSE 17: 44.406410217285156\nMSE 18: 46.145545959472656\nMSE 19: 41.78548812866211\nMSE 20: 45.60719299316406\nMSE 21: 38.55569076538086\nMSE 22: 40.87824249267578\nMSE 23: 36.72555923461914\nMSE 24: 38.83198928833008\nMSE 25: 42.07720184326172\nMSE 26: 44.45423889160156\nMSE 27: 42.9725341796875\nMSE 28: 40.211917877197266\nMSE 29: 47.34975814819336\nMSE 30: 43.849220275878906\nMSE 31: 40.871768951416016\nMSE 32: 37.550392150878906\nMSE 33: 39.79094696044922\nMSE 34: 44.049251556396484\nMSE 35: 42.59197998046875\nMSE 36: 47.60944366455078\nMSE 37: 45.153175354003906\nMSE 38: 46.77328109741211\nMSE 39: 44.28330612182617\nMSE 40: 37.68333053588867\nMSE 41: 47.77568054199219\nMSE 42: 40.62786865234375\nMSE 43: 41.375736236572266\nMSE 44: 47.338653564453125\nMSE 45: 47.46651840209961\nMSE 46: 49.765228271484375\nMSE 47: 47.502342224121094\nMSE 48: 49.024173736572266\nMSE 49: 43.7263069152832\nMSE 50: 46.946903228759766\n\nMean and standard deviation of 50 mean squared errors without normalization:\n\nMean: 43.660367450136654\nStandard Deviation: 3.7676434655239124\n"
                }
            ],
            "source": "totalmse=50\nepochs=50\nmean_squared_errors=[]\nfor i in range(0, totalmse):\n    X_train, X_test, y_train, y_test=train_test_split(predictors,target,test_size=0.3,random_state=i)\n    model.fit(X_train, y_train,epochs=epochs,verbose=0)\n    MSE = model.evaluate(X_test,y_test,verbose=0)\n    print(\"MSE \"+str(i+1)+\": \"+str(MSE))\n    y_pred = model.predict(X_test)\n    mse = mean_squared_error(y_test, y_pred)\n    mean_squared_errors.append(mse)\nmean_squared_errors=np.array(mean_squared_errors)\nmean=np.mean(mean_squared_errors)\nsd=np.std(mean_squared_errors)\nprint(\"\\nMean and standard deviation of \" +str(totalmse) + \" mean squared errors without normalization:\\n\")\nprint(\"Mean: \"+str(mean))\nprint(\"Standard Deviation: \"+str(sd))"
        }
    ],
    "metadata": {
        "kernelspec": {
            "display_name": "Python 3.7",
            "language": "python",
            "name": "python3"
        },
        "language_info": {
            "codemirror_mode": {
                "name": "ipython",
                "version": 3
            },
            "file_extension": ".py",
            "mimetype": "text/x-python",
            "name": "python",
            "nbconvert_exporter": "python",
            "pygments_lexer": "ipython3",
            "version": "3.7.9"
        }
    },
    "nbformat": 4,
    "nbformat_minor": 2
}